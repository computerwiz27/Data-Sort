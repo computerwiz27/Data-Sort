{
 "cells": [
  {
   "cell_type": "markdown",
   "metadata": {},
   "source": [
    "Install packages"
   ]
  },
  {
   "cell_type": "code",
   "execution_count": 3,
   "metadata": {},
   "outputs": [
    {
     "name": "stdout",
     "output_type": "stream",
     "text": [
      "Requirement already satisfied: pandas>=2.2.2 in c:\\users\\paul\\appdata\\local\\programs\\python\\python310\\lib\\site-packages (from -r requirements.txt (line 1)) (2.2.2)\n",
      "Requirement already satisfied: numpy>=2.0.1 in c:\\users\\paul\\appdata\\local\\programs\\python\\python310\\lib\\site-packages (from -r requirements.txt (line 2)) (2.0.1)\n",
      "Requirement already satisfied: xlsxwriter>=3.2.0 in c:\\users\\paul\\appdata\\local\\programs\\python\\python310\\lib\\site-packages (from -r requirements.txt (line 3)) (3.2.0)\n",
      "Requirement already satisfied: openpyxl>=3.1.5 in c:\\users\\paul\\appdata\\local\\programs\\python\\python310\\lib\\site-packages (from -r requirements.txt (line 4)) (3.1.5)\n",
      "Collecting argparse>=1.4.0 (from -r requirements.txt (line 5))\n",
      "  Using cached argparse-1.4.0-py2.py3-none-any.whl.metadata (2.8 kB)\n",
      "Requirement already satisfied: python-dateutil>=2.8.2 in c:\\users\\paul\\appdata\\local\\programs\\python\\python310\\lib\\site-packages (from pandas>=2.2.2->-r requirements.txt (line 1)) (2.9.0.post0)\n",
      "Requirement already satisfied: pytz>=2020.1 in c:\\users\\paul\\appdata\\local\\programs\\python\\python310\\lib\\site-packages (from pandas>=2.2.2->-r requirements.txt (line 1)) (2024.1)\n",
      "Requirement already satisfied: tzdata>=2022.7 in c:\\users\\paul\\appdata\\local\\programs\\python\\python310\\lib\\site-packages (from pandas>=2.2.2->-r requirements.txt (line 1)) (2024.1)\n",
      "Requirement already satisfied: et-xmlfile in c:\\users\\paul\\appdata\\local\\programs\\python\\python310\\lib\\site-packages (from openpyxl>=3.1.5->-r requirements.txt (line 4)) (1.1.0)\n",
      "Requirement already satisfied: six>=1.5 in c:\\users\\paul\\appdata\\local\\programs\\python\\python310\\lib\\site-packages (from python-dateutil>=2.8.2->pandas>=2.2.2->-r requirements.txt (line 1)) (1.16.0)\n",
      "Using cached argparse-1.4.0-py2.py3-none-any.whl (23 kB)\n",
      "Installing collected packages: argparse\n",
      "Successfully installed argparse-1.4.0\n"
     ]
    }
   ],
   "source": [
    "import sys\n",
    "!{sys.executable} -m pip install -r requirements.txt"
   ]
  },
  {
   "cell_type": "markdown",
   "metadata": {},
   "source": [
    "Imports"
   ]
  },
  {
   "cell_type": "code",
   "execution_count": 4,
   "metadata": {},
   "outputs": [],
   "source": [
    "import pandas as pd\n",
    "import os\n",
    "import re"
   ]
  },
  {
   "cell_type": "markdown",
   "metadata": {},
   "source": [
    "Set input and output folder, and the name of the resulting file."
   ]
  },
  {
   "cell_type": "code",
   "execution_count": 5,
   "metadata": {},
   "outputs": [],
   "source": [
    "input_folder = \"input\"\n",
    "output_folder = \".\"\n",
    "output_name = \"Summary\""
   ]
  },
  {
   "cell_type": "code",
   "execution_count": 7,
   "metadata": {},
   "outputs": [],
   "source": [
    "output = output_folder + \"/\" + output_name + \".xlsx\"\n",
    "writer = pd.ExcelWriter(output, engine='xlsxwriter')\n",
    "\n",
    "file_data = []\n",
    "file_names = []\n",
    "\n",
    "for file in os.listdir(input_folder):\n",
    "    name =  re.findall(r'(.+)\\.xlsx$', file)\n",
    "    if not name:\n",
    "        continue\n",
    "    file_names.append(name[0])\n",
    "\n",
    "    file_path = input_folder + '/' + file\n",
    "\n",
    "    excel_data = pd.read_excel(file_path)\n",
    "    file_data.append(excel_data)\n",
    "\n",
    "for df, name in zip(file_data, file_names):\n",
    "    df.to_excel(writer, sheet_name=name[:31])\n",
    "\n",
    "start_row = 0\n",
    "for data, run in zip(file_data,file_names):\n",
    "    calls = {}\n",
    "    for call in data['Label']:\n",
    "        if call not in calls:\n",
    "            calls[call] = 1\n",
    "        else:\n",
    "            calls[call] += 1\n",
    "\n",
    "    total_calls = 0\n",
    "    for call_type in calls:\n",
    "        total_calls+= calls[call_type]\n",
    "    calls['Total'] = total_calls\n",
    "\n",
    "    call_len_avg = data['Call Length (s)'].mean()\n",
    "    principal_freq_avg = data['Principal Frequency (kHz)'].mean()\n",
    "    slope_avg = data['Slope (kHz/s)'].mean()\n",
    "    avgs_dict = {\n",
    "        'Average Call Length (s)': [call_len_avg],\n",
    "        'Average Principal Frequency (kHz)': [principal_freq_avg],\n",
    "        'Average Slope (kHz/s)': [slope_avg]\n",
    "    }\n",
    "\n",
    "\n",
    "    pd.DataFrame(data={run:[run]}).to_excel(writer, sheet_name='Summary', index=False, startrow=start_row, header=False)\n",
    "    start_row += 2\n",
    "\n",
    "    pd.DataFrame(data={'Calls':['Calls']}).to_excel(writer, sheet_name='Summary', index=False, startrow=start_row, startcol=1)\n",
    "    start_row += 1\n",
    "\n",
    "    df = pd.DataFrame(data=calls, index=[0])\n",
    "    df.to_excel(writer, sheet_name='Summary', index=False, startrow=start_row,startcol=1)\n",
    "    start_row += 3\n",
    "\n",
    "    df = pd.DataFrame(data=avgs_dict)\n",
    "    df.to_excel(writer, sheet_name='Summary', index=False, startrow=start_row, startcol=1)\n",
    "    start_row +=4\n",
    "\n",
    "writer.close()"
   ]
  }
 ],
 "metadata": {
  "kernelspec": {
   "display_name": "data_sort",
   "language": "python",
   "name": "data_sort"
  },
  "language_info": {
   "codemirror_mode": {
    "name": "ipython",
    "version": 3
   },
   "file_extension": ".py",
   "mimetype": "text/x-python",
   "name": "python",
   "nbconvert_exporter": "python",
   "pygments_lexer": "ipython3",
   "version": "3.10.11"
  }
 },
 "nbformat": 4,
 "nbformat_minor": 2
}
